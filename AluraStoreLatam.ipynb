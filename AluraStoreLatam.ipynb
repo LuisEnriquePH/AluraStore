{
  "cells": [
    {
      "cell_type": "markdown",
      "metadata": {
        "id": "RhEdWd9YUR6H"
      },
      "source": [
        "### Importación de datos\n",
        "\n"
      ]
    },
    {
      "cell_type": "code",
      "execution_count": 4,
      "metadata": {
        "colab": {
          "base_uri": "https://localhost:8080/",
          "height": 206
        },
        "id": "T3EvaeQ_INIL",
        "outputId": "e9c5efe1-82a3-43ab-e8d7-6d01e4fa3514"
      },
      "outputs": [
        {
          "data": {
            "text/html": [
              "<div>\n",
              "<style scoped>\n",
              "    .dataframe tbody tr th:only-of-type {\n",
              "        vertical-align: middle;\n",
              "    }\n",
              "\n",
              "    .dataframe tbody tr th {\n",
              "        vertical-align: top;\n",
              "    }\n",
              "\n",
              "    .dataframe thead th {\n",
              "        text-align: right;\n",
              "    }\n",
              "</style>\n",
              "<table border=\"1\" class=\"dataframe\">\n",
              "  <thead>\n",
              "    <tr style=\"text-align: right;\">\n",
              "      <th></th>\n",
              "      <th>Producto</th>\n",
              "      <th>Categoría del Producto</th>\n",
              "      <th>Precio</th>\n",
              "      <th>Costo de envío</th>\n",
              "      <th>Fecha de Compra</th>\n",
              "      <th>Vendedor</th>\n",
              "      <th>Lugar de Compra</th>\n",
              "      <th>Calificación</th>\n",
              "      <th>Método de pago</th>\n",
              "      <th>Cantidad de cuotas</th>\n",
              "      <th>lat</th>\n",
              "      <th>lon</th>\n",
              "    </tr>\n",
              "  </thead>\n",
              "  <tbody>\n",
              "    <tr>\n",
              "      <th>0</th>\n",
              "      <td>Secadora de ropa</td>\n",
              "      <td>Electrodomésticos</td>\n",
              "      <td>1285100.0</td>\n",
              "      <td>66600.0</td>\n",
              "      <td>17/12/2021</td>\n",
              "      <td>Camila Rivera</td>\n",
              "      <td>Santa Marta</td>\n",
              "      <td>4</td>\n",
              "      <td>Tarjeta de crédito</td>\n",
              "      <td>4</td>\n",
              "      <td>11.24079</td>\n",
              "      <td>-74.19904</td>\n",
              "    </tr>\n",
              "    <tr>\n",
              "      <th>1</th>\n",
              "      <td>Mesa de noche</td>\n",
              "      <td>Muebles</td>\n",
              "      <td>290100.0</td>\n",
              "      <td>13600.0</td>\n",
              "      <td>10/02/2021</td>\n",
              "      <td>Maria Alfonso</td>\n",
              "      <td>Cali</td>\n",
              "      <td>3</td>\n",
              "      <td>Tarjeta de crédito</td>\n",
              "      <td>1</td>\n",
              "      <td>3.43722</td>\n",
              "      <td>-76.52250</td>\n",
              "    </tr>\n",
              "    <tr>\n",
              "      <th>2</th>\n",
              "      <td>Guitarra acústica</td>\n",
              "      <td>Instrumentos musicales</td>\n",
              "      <td>303500.0</td>\n",
              "      <td>17400.0</td>\n",
              "      <td>22/01/2023</td>\n",
              "      <td>Lucas Olivera</td>\n",
              "      <td>Bogotá</td>\n",
              "      <td>5</td>\n",
              "      <td>Tarjeta de crédito</td>\n",
              "      <td>3</td>\n",
              "      <td>4.60971</td>\n",
              "      <td>-74.08175</td>\n",
              "    </tr>\n",
              "    <tr>\n",
              "      <th>3</th>\n",
              "      <td>Balón de voleibol</td>\n",
              "      <td>Deportes y diversión</td>\n",
              "      <td>58800.0</td>\n",
              "      <td>3300.0</td>\n",
              "      <td>22/03/2022</td>\n",
              "      <td>Pedro Gomez</td>\n",
              "      <td>Barranquilla</td>\n",
              "      <td>4</td>\n",
              "      <td>Tarjeta de crédito</td>\n",
              "      <td>6</td>\n",
              "      <td>10.96854</td>\n",
              "      <td>-74.78132</td>\n",
              "    </tr>\n",
              "    <tr>\n",
              "      <th>4</th>\n",
              "      <td>Armario</td>\n",
              "      <td>Muebles</td>\n",
              "      <td>521100.0</td>\n",
              "      <td>25900.0</td>\n",
              "      <td>12/01/2022</td>\n",
              "      <td>Blanca Ramirez</td>\n",
              "      <td>Bogotá</td>\n",
              "      <td>1</td>\n",
              "      <td>Tarjeta de crédito</td>\n",
              "      <td>1</td>\n",
              "      <td>4.60971</td>\n",
              "      <td>-74.08175</td>\n",
              "    </tr>\n",
              "    <tr>\n",
              "      <th>5</th>\n",
              "      <td>Impresora</td>\n",
              "      <td>Electrónicos</td>\n",
              "      <td>230700.0</td>\n",
              "      <td>10500.0</td>\n",
              "      <td>20/11/2022</td>\n",
              "      <td>Mariana Herrera</td>\n",
              "      <td>Medellín</td>\n",
              "      <td>5</td>\n",
              "      <td>Tarjeta de crédito</td>\n",
              "      <td>5</td>\n",
              "      <td>6.25184</td>\n",
              "      <td>-75.56359</td>\n",
              "    </tr>\n",
              "    <tr>\n",
              "      <th>6</th>\n",
              "      <td>Carrito de control remoto</td>\n",
              "      <td>Juguetes</td>\n",
              "      <td>55700.0</td>\n",
              "      <td>3200.0</td>\n",
              "      <td>07/07/2020</td>\n",
              "      <td>Ángel Rodriguez</td>\n",
              "      <td>Bogotá</td>\n",
              "      <td>2</td>\n",
              "      <td>Nequi</td>\n",
              "      <td>1</td>\n",
              "      <td>4.60971</td>\n",
              "      <td>-74.08175</td>\n",
              "    </tr>\n",
              "    <tr>\n",
              "      <th>7</th>\n",
              "      <td>Silla de oficina</td>\n",
              "      <td>Muebles</td>\n",
              "      <td>464600.0</td>\n",
              "      <td>25100.0</td>\n",
              "      <td>01/05/2022</td>\n",
              "      <td>Santiago Silva</td>\n",
              "      <td>Bogotá</td>\n",
              "      <td>5</td>\n",
              "      <td>Nequi</td>\n",
              "      <td>1</td>\n",
              "      <td>4.60971</td>\n",
              "      <td>-74.08175</td>\n",
              "    </tr>\n",
              "    <tr>\n",
              "      <th>8</th>\n",
              "      <td>Pandereta</td>\n",
              "      <td>Instrumentos musicales</td>\n",
              "      <td>43500.0</td>\n",
              "      <td>2700.0</td>\n",
              "      <td>27/10/2021</td>\n",
              "      <td>Maria Alfonso</td>\n",
              "      <td>Medellín</td>\n",
              "      <td>5</td>\n",
              "      <td>Tarjeta de crédito</td>\n",
              "      <td>3</td>\n",
              "      <td>6.25184</td>\n",
              "      <td>-75.56359</td>\n",
              "    </tr>\n",
              "    <tr>\n",
              "      <th>9</th>\n",
              "      <td>Cubertería</td>\n",
              "      <td>Artículos para el hogar</td>\n",
              "      <td>33500.0</td>\n",
              "      <td>0.0</td>\n",
              "      <td>03/05/2022</td>\n",
              "      <td>Felipe Santos</td>\n",
              "      <td>Medellín</td>\n",
              "      <td>5</td>\n",
              "      <td>Nequi</td>\n",
              "      <td>1</td>\n",
              "      <td>6.25184</td>\n",
              "      <td>-75.56359</td>\n",
              "    </tr>\n",
              "  </tbody>\n",
              "</table>\n",
              "</div>"
            ],
            "text/plain": [
              "                    Producto   Categoría del Producto     Precio  \\\n",
              "0           Secadora de ropa        Electrodomésticos  1285100.0   \n",
              "1              Mesa de noche                  Muebles   290100.0   \n",
              "2          Guitarra acústica   Instrumentos musicales   303500.0   \n",
              "3          Balón de voleibol     Deportes y diversión    58800.0   \n",
              "4                    Armario                  Muebles   521100.0   \n",
              "5                  Impresora             Electrónicos   230700.0   \n",
              "6  Carrito de control remoto                 Juguetes    55700.0   \n",
              "7           Silla de oficina                  Muebles   464600.0   \n",
              "8                  Pandereta   Instrumentos musicales    43500.0   \n",
              "9                 Cubertería  Artículos para el hogar    33500.0   \n",
              "\n",
              "   Costo de envío Fecha de Compra         Vendedor Lugar de Compra  \\\n",
              "0         66600.0      17/12/2021    Camila Rivera     Santa Marta   \n",
              "1         13600.0      10/02/2021    Maria Alfonso            Cali   \n",
              "2         17400.0      22/01/2023    Lucas Olivera          Bogotá   \n",
              "3          3300.0      22/03/2022      Pedro Gomez    Barranquilla   \n",
              "4         25900.0      12/01/2022   Blanca Ramirez          Bogotá   \n",
              "5         10500.0      20/11/2022  Mariana Herrera        Medellín   \n",
              "6          3200.0      07/07/2020  Ángel Rodriguez          Bogotá   \n",
              "7         25100.0      01/05/2022   Santiago Silva          Bogotá   \n",
              "8          2700.0      27/10/2021    Maria Alfonso        Medellín   \n",
              "9             0.0      03/05/2022    Felipe Santos        Medellín   \n",
              "\n",
              "   Calificación      Método de pago  Cantidad de cuotas       lat       lon  \n",
              "0             4  Tarjeta de crédito                   4  11.24079 -74.19904  \n",
              "1             3  Tarjeta de crédito                   1   3.43722 -76.52250  \n",
              "2             5  Tarjeta de crédito                   3   4.60971 -74.08175  \n",
              "3             4  Tarjeta de crédito                   6  10.96854 -74.78132  \n",
              "4             1  Tarjeta de crédito                   1   4.60971 -74.08175  \n",
              "5             5  Tarjeta de crédito                   5   6.25184 -75.56359  \n",
              "6             2               Nequi                   1   4.60971 -74.08175  \n",
              "7             5               Nequi                   1   4.60971 -74.08175  \n",
              "8             5  Tarjeta de crédito                   3   6.25184 -75.56359  \n",
              "9             5               Nequi                   1   6.25184 -75.56359  "
            ]
          },
          "execution_count": 4,
          "metadata": {},
          "output_type": "execute_result"
        }
      ],
      "source": [
        "import pandas as pd\n",
        "\n",
        "url = \"https://raw.githubusercontent.com/alura-es-cursos/challenge1-data-science-latam/refs/heads/main/base-de-datos-challenge1-latam/tienda_1%20.csv\"\n",
        "url2 = \"https://raw.githubusercontent.com/alura-es-cursos/challenge1-data-science-latam/refs/heads/main/base-de-datos-challenge1-latam/tienda_2.csv\"\n",
        "url3 = \"https://raw.githubusercontent.com/alura-es-cursos/challenge1-data-science-latam/refs/heads/main/base-de-datos-challenge1-latam/tienda_3.csv\"\n",
        "url4 = \"https://raw.githubusercontent.com/alura-es-cursos/challenge1-data-science-latam/refs/heads/main/base-de-datos-challenge1-latam/tienda_4.csv\"\n",
        "\n",
        "tienda = pd.read_csv(url)\n",
        "tienda2 = pd.read_csv(url2)\n",
        "tienda3 = pd.read_csv(url3)\n",
        "tienda4 = pd.read_csv(url4)\n",
        "\n",
        "tienda3.head(10)"
      ]
    },
    {
      "cell_type": "markdown",
      "metadata": {
        "id": "X62IW3KFUIYm"
      },
      "source": [
        "#1. Análisis de facturación\n",
        "\n"
      ]
    },
    {
      "cell_type": "code",
      "execution_count": 19,
      "metadata": {
        "id": "xykobSftV64I"
      },
      "outputs": [
        {
          "name": "stdout",
          "output_type": "stream",
          "text": [
            "1150880400.0\n",
            "1116343500.0\n",
            "1098019600.0\n",
            "1038375700.0\n"
          ]
        }
      ],
      "source": [
        "lista_tiendas = [tienda, tienda2, tienda3, tienda4]\n",
        "ventas_por_tienda = []\n",
        "\n",
        "for i in lista_tiendas:\n",
        "    total_tienda = sum(i[\"Precio\"])  # o i.Precio si es un atributo válido\n",
        "    ventas_por_tienda.append(total_tienda)\n",
        "    print(total_tienda)\n"
      ]
    },
    {
      "cell_type": "code",
      "execution_count": null,
      "metadata": {
        "id": "KDyr8E71V3m-"
      },
      "outputs": [
        {
          "name": "stdout",
          "output_type": "stream",
          "text": [
            "\n",
            "Categorías más vendidas en Tienda 1:\n",
            "Categoría del Producto\n",
            "Muebles                    465\n",
            "Electrónicos               448\n",
            "Juguetes                   324\n",
            "Electrodomésticos          312\n",
            "Deportes y diversión       284\n",
            "Instrumentos musicales     182\n",
            "Libros                     173\n",
            "Artículos para el hogar    171\n",
            "Name: count, dtype: int64\n",
            "\n",
            "Categorías más vendidas en Tienda 2:\n",
            "Categoría del Producto\n",
            "Muebles                    442\n",
            "Electrónicos               422\n",
            "Juguetes                   313\n",
            "Electrodomésticos          305\n",
            "Deportes y diversión       275\n",
            "Instrumentos musicales     224\n",
            "Libros                     197\n",
            "Artículos para el hogar    181\n",
            "Name: count, dtype: int64\n",
            "\n",
            "Categorías más vendidas en Tienda 3:\n",
            "Categoría del Producto\n",
            "Muebles                    499\n",
            "Electrónicos               451\n",
            "Juguetes                   315\n",
            "Electrodomésticos          278\n",
            "Deportes y diversión       277\n",
            "Libros                     185\n",
            "Instrumentos musicales     177\n",
            "Artículos para el hogar    177\n",
            "Name: count, dtype: int64\n",
            "\n",
            "Categorías más vendidas en Tienda 4:\n",
            "Categoría del Producto\n",
            "Muebles                    480\n",
            "Electrónicos               451\n",
            "Juguetes                   338\n",
            "Deportes y diversión       277\n",
            "Electrodomésticos          254\n",
            "Artículos para el hogar    201\n",
            "Libros                     187\n",
            "Instrumentos musicales     170\n",
            "Name: count, dtype: int64\n"
          ]
        }
      ],
      "source": []
    },
    {
      "cell_type": "markdown",
      "metadata": {
        "id": "2V_vcAPzWZmR"
      },
      "source": [
        "# 2. Ventas por categoría"
      ]
    },
    {
      "cell_type": "code",
      "execution_count": 24,
      "metadata": {
        "id": "A34YupIuYhfF"
      },
      "outputs": [
        {
          "name": "stdout",
          "output_type": "stream",
          "text": [
            "\n",
            "Categorías más vendidas en Tienda 1:\n",
            "Categoría del Producto\n",
            "Muebles                    465\n",
            "Electrónicos               448\n",
            "Juguetes                   324\n",
            "Electrodomésticos          312\n",
            "Deportes y diversión       284\n",
            "Instrumentos musicales     182\n",
            "Libros                     173\n",
            "Artículos para el hogar    171\n",
            "Name: count, dtype: int64\n",
            "\n",
            "Categorías más vendidas en Tienda 2:\n",
            "Categoría del Producto\n",
            "Muebles                    442\n",
            "Electrónicos               422\n",
            "Juguetes                   313\n",
            "Electrodomésticos          305\n",
            "Deportes y diversión       275\n",
            "Instrumentos musicales     224\n",
            "Libros                     197\n",
            "Artículos para el hogar    181\n",
            "Name: count, dtype: int64\n",
            "\n",
            "Categorías más vendidas en Tienda 3:\n",
            "Categoría del Producto\n",
            "Muebles                    499\n",
            "Electrónicos               451\n",
            "Juguetes                   315\n",
            "Electrodomésticos          278\n",
            "Deportes y diversión       277\n",
            "Libros                     185\n",
            "Instrumentos musicales     177\n",
            "Artículos para el hogar    177\n",
            "Name: count, dtype: int64\n",
            "\n",
            "Categorías más vendidas en Tienda 4:\n",
            "Categoría del Producto\n",
            "Muebles                    480\n",
            "Electrónicos               451\n",
            "Juguetes                   338\n",
            "Deportes y diversión       277\n",
            "Electrodomésticos          254\n",
            "Artículos para el hogar    201\n",
            "Libros                     187\n",
            "Instrumentos musicales     170\n",
            "Name: count, dtype: int64\n"
          ]
        }
      ],
      "source": [
        "# Lista de DataFrames (una por tienda)\n",
        "lista_tiendas = [tienda, tienda2, tienda3, tienda4]\n",
        "nombres_tiendas = ['Tienda 1', 'Tienda 2', 'Tienda 3', 'Tienda 4']\n",
        "\n",
        "# Recorremos cada tienda\n",
        "for nombre, df in zip(nombres_tiendas, lista_tiendas):\n",
        "    print(f\"\\nCategorías más vendidas en {nombre}:\")\n",
        "    categorias = df['Categoría del Producto'].value_counts()\n",
        "    print(categorias)\n"
      ]
    },
    {
      "cell_type": "code",
      "execution_count": 28,
      "metadata": {
        "id": "yZR6cOjXYSk1"
      },
      "outputs": [],
      "source": [
        "\n",
        "lista_tiendas = [tienda, tienda2, tienda3, tienda4]\n"
      ]
    },
    {
      "cell_type": "markdown",
      "metadata": {
        "id": "Rq6tU_xSY3jk"
      },
      "source": [
        "# 3. Calificación promedio de la tienda\n"
      ]
    },
    {
      "cell_type": "code",
      "execution_count": 33,
      "metadata": {
        "id": "bh3jjjJwY5MU"
      },
      "outputs": [
        {
          "name": "stdout",
          "output_type": "stream",
          "text": [
            "Promedio de calificación en Tienda 1: 3.98\n",
            "Promedio de calificación en Tienda 2: 4.04\n",
            "Promedio de calificación en Tienda 3: 4.05\n",
            "Promedio de calificación en Tienda 4: 4.00\n"
          ]
        }
      ],
      "source": [
        "nombres_tiendas = ['Tienda 1', 'Tienda 2', 'Tienda 3', 'Tienda 4']\n",
        "\n",
        "for nombre, tienda_df in zip(nombres_tiendas, lista_tiendas):\n",
        "    promedio_cal = tienda_df['Calificación'].mean()\n",
        "    print(f\"Promedio de calificación en {nombre}: {promedio_cal:.2f}\")\n"
      ]
    },
    {
      "cell_type": "code",
      "execution_count": null,
      "metadata": {
        "id": "I0KkjPoTY88F"
      },
      "outputs": [],
      "source": []
    },
    {
      "cell_type": "markdown",
      "metadata": {
        "id": "DmNp1KPBZCm-"
      },
      "source": [
        "# 4. Productos más y menos vendidos"
      ]
    },
    {
      "cell_type": "code",
      "execution_count": null,
      "metadata": {
        "id": "qoyjqijQZHfF"
      },
      "outputs": [],
      "source": []
    },
    {
      "cell_type": "code",
      "execution_count": null,
      "metadata": {
        "id": "0Sw3sd4IZIGW"
      },
      "outputs": [],
      "source": []
    },
    {
      "cell_type": "markdown",
      "metadata": {
        "id": "Fl0cGi3bZKqU"
      },
      "source": [
        "# 5. Envío promedio por tienda"
      ]
    },
    {
      "cell_type": "code",
      "execution_count": null,
      "metadata": {
        "id": "S2JeaCykZNy9"
      },
      "outputs": [],
      "source": []
    },
    {
      "cell_type": "code",
      "execution_count": null,
      "metadata": {
        "id": "0tSdCie9ZQlt"
      },
      "outputs": [],
      "source": []
    }
  ],
  "metadata": {
    "colab": {
      "provenance": []
    },
    "kernelspec": {
      "display_name": "alura_ds",
      "language": "python",
      "name": "python3"
    },
    "language_info": {
      "codemirror_mode": {
        "name": "ipython",
        "version": 3
      },
      "file_extension": ".py",
      "mimetype": "text/x-python",
      "name": "python",
      "nbconvert_exporter": "python",
      "pygments_lexer": "ipython3",
      "version": "3.10.18"
    }
  },
  "nbformat": 4,
  "nbformat_minor": 0
}
